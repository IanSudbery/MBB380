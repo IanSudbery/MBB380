{
 "cells": [
  {
   "cell_type": "code",
   "execution_count": null,
   "metadata": {
    "slideshow": {
     "slide_type": "skip"
    },
    "tags": [
     "noshow"
    ]
   },
   "outputs": [],
   "source": [
    "%xmode plain"
   ]
  },
  {
   "cell_type": "markdown",
   "metadata": {
    "slideshow": {
     "slide_type": "slide"
    }
   },
   "source": [
    "# Anatomy of an error message"
   ]
  },
  {
   "cell_type": "markdown",
   "metadata": {
    "slideshow": {
     "slide_type": "skip"
    }
   },
   "source": [
    "Error messages in python look obscure and unhelpful, but are a font of information about what is wrong with your code.\n",
    "\n",
    "Lets see an example:\n",
    "\n",
    "Write a function to output an arbitrary column of a file"
   ]
  },
  {
   "cell_type": "code",
   "execution_count": null,
   "metadata": {
    "slideshow": {
     "slide_type": "fragment"
    }
   },
   "outputs": [],
   "source": [
    "%%bash\n",
    "# have a look whats in the file. \n"
   ]
  },
  {
   "cell_type": "code",
   "execution_count": null,
   "metadata": {
    "slideshow": {
     "slide_type": "subslide"
    }
   },
   "outputs": [],
   "source": [
    "def read_col(filename, column_number):\n",
    "    ''' A function that reads one column from a file and returns it\n",
    "    as a list'''\n",
    "    \n",
    "    # First open the file \n",
    "    \n",
    "    # Then loop over each line, split it into columns\n",
    "    # and add the columns we want to a list          \n",
    "        \n",
    "    # Finally return this list\n",
    "\n",
    "# Run our function"
   ]
  },
  {
   "cell_type": "markdown",
   "metadata": {
    "slideshow": {
     "slide_type": "subslide"
    }
   },
   "source": [
    "The resulting error message contains several parts:"
   ]
  },
  {
   "cell_type": "markdown",
   "metadata": {
    "slideshow": {
     "slide_type": "fragment"
    }
   },
   "source": [
    "![](error1.png)"
   ]
  },
  {
   "cell_type": "markdown",
   "metadata": {
    "slideshow": {
     "slide_type": "subslide"
    }
   },
   "source": [
    "A **``SyntaxError``** - special type of error: what you've written is not valid python"
   ]
  },
  {
   "cell_type": "markdown",
   "metadata": {
    "slideshow": {
     "slide_type": "fragment"
    }
   },
   "source": [
    "There are many of types of error, here are some common ones:\n",
    "\n",
    "* **`NameError`**: You've used a name that doesn't exist\n",
    "* **`TypeError`**: You are trying to do something with a variable type that can't do that\n",
    "* **`ValueError`**: The values you are trying to use don't make sense for that operation.\n",
    "* **`IndexError`**/**`KeyError`** : are are trying to access a member of a list or dictionary that doesn't exist"
   ]
  },
  {
   "cell_type": "code",
   "execution_count": null,
   "metadata": {
    "slideshow": {
     "slide_type": "slide"
    }
   },
   "outputs": [],
   "source": [
    "def read_col(filename, column_number):\n",
    "    ''' A function that reads one column from a file and returns it\n",
    "    as a list'''\n",
    "    \n",
    "    # First open the file\n",
    "    fh = open(filename)\n",
    "    \n",
    "    datalist = []\n",
    "    \n",
    "    # Then loop over each line, split it into columns\n",
    "    # and add the columns we want to a list\n",
    "    for line in fh.readlines():    \n",
    "        columns = line.split()\n",
    "        datalist.append(columns[column_number])\n",
    "        \n",
    "    # Finally return this list\n",
    "    return datalist\n",
    "\n",
    "# Run our function\n",
    "read_col(\"my_file\", \"3\""
   ]
  },
  {
   "cell_type": "markdown",
   "metadata": {
    "slideshow": {
     "slide_type": "subslide"
    }
   },
   "source": [
    "![](error2.png)\n",
    "\n",
    "* We can see that this error is a <font color=\"green\">**TypeError**</font>.\n",
    "\n",
    "* This means that we've done something with the wrong type.\n",
    "\n",
    "* The Location part here is longer. It is called the **\"traceback\"**. <br> It shows us not just what the error is, but how we got there."
   ]
  },
  {
   "cell_type": "markdown",
   "metadata": {
    "slideshow": {
     "slide_type": "subslide"
    }
   },
   "source": [
    "![](error3.png)\n",
    "\n",
    "This error is cause by the line\n",
    "\n",
    "    datalist.append(columns[column_number])\n",
    "    \n",
    "Which is **`line 14`**, in the file **`<ipython-input-78b9696184f0>`**.\n",
    "\n",
    "It also tells us this is in the function **`read_col`**.\n"
   ]
  },
  {
   "cell_type": "markdown",
   "metadata": {
    "slideshow": {
     "slide_type": "fragment"
    }
   },
   "source": [
    "\n",
    "The traceback tells us how we ended up here:\n",
    "\n",
    "![](error4.PNG)\n",
    "\n",
    "It tells us that we are in `read_col` becase `read_col` was called\n",
    "\n",
    "on `line 20` of the file `<ipython-input-78b9696184f0>` \n",
    "\n",
    "with the parameters `(\"my_file\", \"3\")`"
   ]
  },
  {
   "cell_type": "code",
   "execution_count": null,
   "metadata": {
    "slideshow": {
     "slide_type": "slide"
    }
   },
   "outputs": [],
   "source": [
    "def read_col(filename, column_number):\n",
    "    ''' A function that reads one column from a file and returns it\n",
    "    as a list'''\n",
    "    \n",
    "    # First open the file\n",
    "    fh = open(filename)\n",
    "    \n",
    "    datalist = []\n",
    "    \n",
    "    # Then loop over each line, split it into columns\n",
    "    # and add the columns we want to a list\n",
    "    for line in fh.readlines():    \n",
    "        columns = line.split()\n",
    "        datalist.append(columns[column_number])\n",
    "        \n",
    "    # Finally return this list\n",
    "    return datalist\n",
    "\n",
    "# Run our function\n",
    "read_col(\"my_file\", \"3\")"
   ]
  },
  {
   "cell_type": "markdown",
   "metadata": {
    "slideshow": {
     "slide_type": "notes"
    }
   },
   "source": [
    "The error was caused by trying to ask for column `\"3\"` of the file when `\"3\"` is a string. \n",
    "But if you are getting an entry from a list, you need to use an integer, not a string. So the correct way to get the third column is to ask for `2` not column `\"2\"`, which would give:\n",
    "\n",
    "    read_col(\"my_file\", 2)\n",
    "    \n",
    "rather than \n",
    "\n",
    "    read_col(\"my_file\", \"2\")\n",
    "\n",
    "Of course, we actaully wanted the second column, not the third, so the correct call is\n",
    "\n",
    "    read_col(\"my_file\", 1)\n",
    "    "
   ]
  },
  {
   "cell_type": "markdown",
   "metadata": {
    "slideshow": {
     "slide_type": "slide"
    }
   },
   "source": [
    "# Programatic Web Access"
   ]
  },
  {
   "cell_type": "markdown",
   "metadata": {
    "slideshow": {
     "slide_type": "fragment"
    }
   },
   "source": [
    "If you know a _little_ about how html and the web works can get a long way in automating data retrieval.\n",
    "\n",
    "\n",
    "What happens when I type an address in a web-browser?"
   ]
  },
  {
   "cell_type": "markdown",
   "metadata": {
    "slideshow": {
     "slide_type": "subslide"
    }
   },
   "source": [
    "![](browser_request.PNG)"
   ]
  },
  {
   "cell_type": "markdown",
   "metadata": {
    "slideshow": {
     "slide_type": "fragment"
    }
   },
   "source": [
    "A web address is a URL: A Uniform Resorce Locatator. "
   ]
  },
  {
   "cell_type": "markdown",
   "metadata": {
    "slideshow": {
     "slide_type": "fragment"
    }
   },
   "source": [
    "A request to send the file `index.html` using the `http` protocol is sent through the internet to the computer `hactar.shef.ac.uk`. "
   ]
  },
  {
   "cell_type": "markdown",
   "metadata": {
    "slideshow": {
     "slide_type": "fragment"
    }
   },
   "source": [
    "`hactar` is running a program called a \"web server\" that is always listerning for such requests.\n",
    "\n",
    "On `hactar` there will be a folder somthing like `/usr/apache/files/` with a file `index.html` that it will send back to you."
   ]
  },
  {
   "cell_type": "markdown",
   "metadata": {
    "slideshow": {
     "slide_type": "subslide"
    }
   },
   "source": [
    "What is in that file?\n",
    "\n",
    "We can see by using \"view source\" in browser.\n",
    "\n",
    "Or can download that file and take a look:"
   ]
  },
  {
   "cell_type": "code",
   "execution_count": null,
   "metadata": {
    "slideshow": {
     "slide_type": "fragment"
    }
   },
   "outputs": [],
   "source": [
    "%%bash\n"
   ]
  },
  {
   "cell_type": "markdown",
   "metadata": {
    "slideshow": {
     "slide_type": "subslide"
    }
   },
   "source": [
    "The file starts with\n",
    "\n",
    "    <h1>Hello this is \n",
    "    the index file</h1>\n",
    "    \n",
    "The things in `<>` are called **tags**. \n",
    "\n",
    "`<h1>` is the heading tag. \n",
    "\n",
    "Every tag has a matching tag with a `/` to end it. \n",
    "\n",
    "The things inbetween `<h1>` and `</h1>` are a heading (i.e. big, bold etc)"
   ]
  },
  {
   "cell_type": "markdown",
   "metadata": {
    "slideshow": {
     "slide_type": "fragment"
    }
   },
   "source": [
    "The result looks like:\n",
    "\n",
    "<h1>Hello this is the index file</h1>"
   ]
  },
  {
   "cell_type": "markdown",
   "metadata": {
    "slideshow": {
     "slide_type": "subslide"
    }
   },
   "source": [
    "The next bit is a link that looks like:\n",
    "\n",
    "      You can get more info from\n",
    "      <a href=\"part1.html\">Part one of info</a>\n",
    "      \n",
    "Here we have an `<a ....>` tag. This means the next bit is a link.\n",
    "\n",
    "With in the `<a....>` bit there is `href=\"part1.html`. This says \"fetch `part1.html` when this link is selcted.\n",
    "\n",
    "Then we have the text we would like to appear in the browser. \n",
    "\n",
    "Finally, we end the tag with `</a>`"
   ]
  },
  {
   "cell_type": "markdown",
   "metadata": {
    "slideshow": {
     "slide_type": "fragment"
    }
   },
   "source": [
    "The result look like:\n",
    "\n",
    "You can get more info at <a href=\"https://hactar.shef.ac.uk\">Part one of info</a>"
   ]
  },
  {
   "cell_type": "markdown",
   "metadata": {
    "slideshow": {
     "slide_type": "slide"
    }
   },
   "source": [
    "## Excercise\n",
    "\n",
    "* Edit a file to look like `index.html` on iceberg using `nedit`.\n",
    "* On iceberg start firefox with:\n",
    "\n",
    "      $ firefox &\n",
    "  \n",
    "  Firefox will now be running on iceberg, but showing its window on your desktop.\n",
    "* Go to File > Open and open the file.\n",
    "  The URL bar will say `file://index.html`"
   ]
  },
  {
   "cell_type": "markdown",
   "metadata": {
    "slideshow": {
     "slide_type": "fragment"
    }
   },
   "source": [
    "Difference:\n",
    " * Local file actaully store on your disk (loaded using the `file` protocol)\n",
    " * Severed HTML file stored on a web sever (transferred to you with the `http` protocol,"
   ]
  },
  {
   "cell_type": "markdown",
   "metadata": {
    "slideshow": {
     "slide_type": "slide"
    }
   },
   "source": [
    "## Dynamic Web\n",
    "\n",
    "Sometimes the file has to be created before it can be sent to you. \n",
    "\n",
    "For example:\n",
    "\n",
    "Weather forcast = needs to generate a forecase with the weather right now for where you are.\n"
   ]
  },
  {
   "attachments": {},
   "cell_type": "markdown",
   "metadata": {},
   "source": [
    "![](dynamic_request2.PNG)"
   ]
  },
  {
   "cell_type": "markdown",
   "metadata": {
    "slideshow": {
     "slide_type": "skip"
    }
   },
   "source": [
    "CGI = is a mechanism for accepting extra information (arguments/parameters)\n",
    "\n",
    "Server runs a script (might be written in python) with parameters provided after the `?`\n",
    "\n",
    "Script creates an html file, which is sent back to the requestor using `http`\n",
    "\n",
    "There are many other ways to pass information to web sever other than CGI\n"
   ]
  },
  {
   "cell_type": "markdown",
   "metadata": {
    "slideshow": {
     "slide_type": "slide"
    }
   },
   "source": [
    "### Exercise\n",
    "\n",
    "In the exercises for todays lecture you will be asked to write a script that fetches a `PDB` file.\n",
    "\n",
    "(`pbd` files are files with 3D coordinates for atoms in protein structures. Can be opened in pymol/rasmol etc)\n",
    "\n",
    "The server `http://oca.weizmann.ac.il/oca-bin/send-pdb` will send this.\n",
    "\n",
    "Takes an `id` parameter which is the id of the protein you want.\n",
    "\n",
    "eg:"
   ]
  },
  {
   "cell_type": "code",
   "execution_count": null,
   "metadata": {
    "slideshow": {
     "slide_type": "fragment"
    }
   },
   "outputs": [],
   "source": [
    "%%bash\n"
   ]
  },
  {
   "cell_type": "markdown",
   "metadata": {
    "slideshow": {
     "slide_type": "slide"
    }
   },
   "source": [
    "### Program to access arbitrary page"
   ]
  },
  {
   "cell_type": "code",
   "execution_count": null,
   "metadata": {
    "slideshow": {
     "slide_type": "fragment"
    }
   },
   "outputs": [],
   "source": [
    "#! /usr/bin/env\n",
    "\n",
    "# import modules\n",
    "\n",
    "# set requested url\n",
    "\n",
    "# open url\n",
    "\n",
    "# read data from url\n",
    "\n",
    "# output each line\n"
   ]
  },
  {
   "cell_type": "markdown",
   "metadata": {
    "slideshow": {
     "slide_type": "fragment"
    }
   },
   "source": [
    "Your program should be able to be run something like:\n",
    "\n",
    "    get_pdb.py 1lys > 1lys.pdb\n",
    "    \n",
    "You will have to work out how to take the command line argument and use it to build a URL that will fetch the PDB file. "
   ]
  },
  {
   "cell_type": "markdown",
   "metadata": {
    "slideshow": {
     "slide_type": "slide"
    }
   },
   "source": [
    "### Exercise: Getting the temperature\n",
    "\n",
    "Go to the page `143.167.65.160`\n",
    "\n",
    "Is a temperature sensor in the departments NMR labs.\n",
    "\n",
    "One of the NMR linux servers gets the temperature from this every minute and records it.\n",
    "\n",
    "**Exercise**: Write a script that reports the temperature in the NMR lab."
   ]
  },
  {
   "cell_type": "markdown",
   "metadata": {
    "slideshow": {
     "slide_type": "slide"
    }
   },
   "source": [
    "## Web-scraping vs web-services\n",
    "\n",
    "*Web-scraping*: informal retrival of data by piecing together URLs and sending requests.\n",
    "* Usually returns `html` designed to be read in browser rather than viewed\n",
    "* Often discouraged so as not to overload servers.\n",
    "* This is how DDOS attacks work\n",
    "\n",
    "*Web-services*: Websites designed to be accessed by a computer this way.\n",
    "* Many academic websites *encourage* access in this manner\n",
    "* The URLs you need and the options are often documented somewhere.\n",
    "* Please follow the rules if they exist. e.g. how many requests you can send in an hour."
   ]
  },
  {
   "cell_type": "markdown",
   "metadata": {
    "slideshow": {
     "slide_type": "fragment"
    }
   },
   "source": [
    "E.g. \n",
    "\n",
    "**NCBI e-utilities**\n",
    "\n",
    "*esearch*: do keyword search. Returns list of NCBI record IDs that contain keyword<br>\n",
    "*efetch*: fetch computer readable version of record using an ID. "
   ]
  },
  {
   "cell_type": "markdown",
   "metadata": {
    "slideshow": {
     "slide_type": "slide"
    }
   },
   "source": [
    "# XML\n",
    "\n",
    "HTML is \"HyperText Markup Lanuage\"<br>\n",
    "*HyperText* Becuase there are links\n",
    "*Markup* because there are tags (things in <>) that \"markup\" the text with meaning.\n",
    "\n",
    "In HTML the \"markup\" tells the browser how to display the text."
   ]
  },
  {
   "cell_type": "markdown",
   "metadata": {
    "slideshow": {
     "slide_type": "fragment"
    }
   },
   "source": [
    "XML is \"eXtensible Markup Lanuage\"\n",
    "\n",
    "It also uses tags, but here the tags say what the information means, not how to display it.\n",
    "\n",
    "Many web services will allow you choose to have data returned in `XML`."
   ]
  },
  {
   "cell_type": "markdown",
   "metadata": {
    "slideshow": {
     "slide_type": "fragment"
    }
   },
   "source": [
    "Example:"
   ]
  },
  {
   "cell_type": "markdown",
   "metadata": {
    "slideshow": {
     "slide_type": "subslide"
    }
   },
   "source": [
    "   "
   ]
  },
  {
   "cell_type": "markdown",
   "metadata": {
    "slideshow": {
     "slide_type": "fragment"
    }
   },
   "source": [
    "There are packages designed to \"parse\" XML files - turn them automatically in things that look a bit like lists/dictionaries. \n",
    "\n",
    "Or in many cases you can process them yourself, particularly with something called \"regular expressions\" which we will talk about next week."
   ]
  }
 ],
 "metadata": {
  "celltoolbar": "Slideshow",
  "kernelspec": {
   "display_name": "Python 3",
   "language": "python",
   "name": "python3"
  },
  "language_info": {
   "codemirror_mode": {
    "name": "ipython",
    "version": 3
   },
   "file_extension": ".py",
   "mimetype": "text/x-python",
   "name": "python",
   "nbconvert_exporter": "python",
   "pygments_lexer": "ipython3",
   "version": "3.5.5"
  },
  "rise": {
   "scroll": true,
   "transition": "none"
  }
 },
 "nbformat": 4,
 "nbformat_minor": 2
}
