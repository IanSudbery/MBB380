{
 "cells": [
  {
   "cell_type": "markdown",
   "id": "sudden-practitioner",
   "metadata": {
    "slideshow": {
     "slide_type": "slide"
    }
   },
   "source": [
    "# Some file types and their parsing"
   ]
  },
  {
   "cell_type": "markdown",
   "id": "western-pollution",
   "metadata": {
    "slideshow": {
     "slide_type": "fragment"
    }
   },
   "source": [
    " _parse (verb)_ \n",
    "\n",
    ">   resolve (a sentence) into its component parts and describe their syntactic roles."
   ]
  },
  {
   "cell_type": "markdown",
   "id": "southeast-university",
   "metadata": {
    "slideshow": {
     "slide_type": "subslide"
    }
   },
   "source": [
    "* You've already done some parsing - you've parsed tables into lists. "
   ]
  },
  {
   "cell_type": "markdown",
   "id": "local-phoenix",
   "metadata": {
    "slideshow": {
     "slide_type": "fragment"
    }
   },
   "source": [
    "* There are many file types with defined formats that are more difficult to read in than text tables. \n",
    "\n",
    "* Often other people have done the hard work of writing code that turns these into things you can work with in python.\n",
    "\n",
    "* We will look in more detail at more complex operations on tables in a later video"
   ]
  },
  {
   "cell_type": "markdown",
   "id": "handed-basis",
   "metadata": {
    "slideshow": {
     "slide_type": "slide"
    }
   },
   "source": [
    "## FASTA format\n",
    "\n",
    "`FASTA` format is a format for storing DNA, RNA and protein sequences.\n",
    "\n",
    "It consists of a title line marked with a `>`, followed by any number of sequence lines. E.g. the below is the sequence of a single gene/genome/protein:\n",
    "\n",
    "    >gene1\n",
    "    AATAGACCGCGATAATAGCGAA\n",
    "    ATTTTCAGGGCAAAGGCCCCAT\n",
    "\n"
   ]
  },
  {
   "cell_type": "markdown",
   "id": "fitting-deficit",
   "metadata": {
    "slideshow": {
     "slide_type": "fragment"
    }
   },
   "source": [
    "Each file can be more than one gene/protein. \n",
    "\n",
    "    >gene1\n",
    "    AATAGACCGCGATAATAGCGAA\n",
    "    ATTTTCAGGGCAAAGGCCCCAT\n",
    "    >gene2\n",
    "    AATAGACCGCGATAATAGCGAA\n",
    "    ATTTTCAGGGCAAAGGCCCCAT"
   ]
  },
  {
   "cell_type": "markdown",
   "id": "independent-academy",
   "metadata": {
    "slideshow": {
     "slide_type": "subslide"
    }
   },
   "source": [
    "`FASTA` is tricky to parse, but luckily someone has done it for us."
   ]
  },
  {
   "cell_type": "code",
   "execution_count": null,
   "id": "front-favor",
   "metadata": {
    "slideshow": {
     "slide_type": "fragment"
    }
   },
   "outputs": [],
   "source": [
    "from Bio import SeqIO"
   ]
  },
  {
   "cell_type": "markdown",
   "id": "romance-gauge",
   "metadata": {
    "slideshow": {
     "slide_type": "fragment"
    }
   },
   "source": [
    "The `Bio` package (full name biopython) is not part of the standard python, but we have installed it for you to use."
   ]
  },
  {
   "cell_type": "markdown",
   "id": "preceding-acoustic",
   "metadata": {
    "slideshow": {
     "slide_type": "slide"
    }
   },
   "source": [
    "## JSON\n",
    "(JavaScript Object Notation)"
   ]
  },
  {
   "cell_type": "markdown",
   "id": "alone-arlington",
   "metadata": {
    "slideshow": {
     "slide_type": "fragment"
    }
   },
   "source": [
    "* This is a general file format for transmitting structured information across the internet."
   ]
  },
  {
   "cell_type": "markdown",
   "id": "korean-winner",
   "metadata": {
    "slideshow": {
     "slide_type": "fragment"
    }
   },
   "source": [
    "* It is effectively a way of writing a dictionary to disk.\n",
    "\n",
    "An example of some JSON:"
   ]
  },
  {
   "cell_type": "markdown",
   "id": "wrong-funds",
   "metadata": {
    "slideshow": {
     "slide_type": "fragment"
    }
   },
   "source": [
    "    [\n",
    "        {\n",
    "            \"gene_name\": \"gene1\",\n",
    "            \"RNA sequence\": \"ATGTATGCAGAGATCTATAGCGTA\",\n",
    "            \"Domains\": [\"domain1\", \"domain2\", \"domain3\"]\n",
    "        },\n",
    "        \n",
    "        {   \n",
    "            \"gene_name\": \"gene2\",\n",
    "            \"RNA sequence\": \"TGCGAYCGAATTTCAAACTTAC\",\n",
    "            \"Domains\": [\"domainA\", \"domainB\", \"domainC\"]\n",
    "        }\n",
    "    ]"
   ]
  },
  {
   "cell_type": "code",
   "execution_count": 2,
   "id": "ecological-robert",
   "metadata": {
    "slideshow": {
     "slide_type": "subslide"
    }
   },
   "outputs": [
    {
     "name": "stdout",
     "output_type": "stream",
     "text": [
      "There are  2 genes in the file\n",
      "\n",
      "The name of gene 1 is gene1\n",
      "Its RNA sequence is ATGTATGCAGAGATCTATAGCGTA\n",
      "It has 3 domains\n",
      "\n",
      "\n",
      "The name of gene 2 is gene2\n",
      "Its RNA sequence is TGCGAYCGAATTTCAAACTTAC\n",
      "It has 3 domains\n",
      "\n"
     ]
    }
   ],
   "source": [
    "import json\n",
    "\n",
    "fh = open(\"example.json\")\n",
    "gene_data = json.load(fh)\n",
    "print(\"There are \", len(gene_data), \"genes in the file\")\n",
    "i = 0\n",
    "\n",
    "for gene in gene_data:\n",
    "    i += 1\n",
    "    print()\n",
    "    print(\"The name of gene\", i, \"is\", gene[\"gene_name\"])\n",
    "    print(\"Its RNA sequence is\", gene[\"RNA sequence\"])\n",
    "    print(\"It has\", len(gene[\"Domains\"]), \"domains\")\n",
    "    print()\n",
    "    "
   ]
  },
  {
   "cell_type": "markdown",
   "id": "spoken-library",
   "metadata": {
    "slideshow": {
     "slide_type": "slide"
    }
   },
   "source": [
    "# XML\n",
    "\n",
    "You've probably heard of HTML. \n",
    "\n",
    "HTML is \"HyperText Markup Lanuage\"<br>\n",
    "*HyperText* Becuase there are links\n",
    "*Markup* because there are tags (things in <>) that \"markup\" the text with meaning.\n",
    "\n",
    "In HTML the \"markup\" tells the browser how to display the text."
   ]
  },
  {
   "cell_type": "markdown",
   "id": "detected-india",
   "metadata": {
    "slideshow": {
     "slide_type": "fragment"
    }
   },
   "source": [
    "XML is \"eXtensible Markup Lanuage\"\n",
    "\n",
    "It also tags, to say what the information means.\n",
    "\n",
    "Many web services will allow you choose to have data returned in `XML`."
   ]
  },
  {
   "cell_type": "markdown",
   "id": "federal-roots",
   "metadata": {
    "slideshow": {
     "slide_type": "subslide"
    }
   },
   "source": [
    "Example:\n",
    "    "
   ]
  },
  {
   "cell_type": "markdown",
   "id": "judicial-silly",
   "metadata": {
    "slideshow": {
     "slide_type": "fragment"
    }
   },
   "source": [
    "There are packages designed to \"parse\" XML files - turn them automatically in things that look a bit like lists/dictionaries. \n",
    "\n",
    "Or in many cases you can process them yourself, particularly with something called \"regular expressions\" which we will talk about next time."
   ]
  }
 ],
 "metadata": {
  "celltoolbar": "Slideshow",
  "kernelspec": {
   "display_name": "Python 3",
   "language": "python",
   "name": "python3"
  },
  "language_info": {
   "codemirror_mode": {
    "name": "ipython",
    "version": 3
   },
   "file_extension": ".py",
   "mimetype": "text/x-python",
   "name": "python",
   "nbconvert_exporter": "python",
   "pygments_lexer": "ipython3",
   "version": "3.6.12"
  }
 },
 "nbformat": 4,
 "nbformat_minor": 5
}
