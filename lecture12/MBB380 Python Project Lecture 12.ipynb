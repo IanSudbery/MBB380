{
 "cells": [
  {
   "cell_type": "code",
   "execution_count": 1,
   "metadata": {},
   "outputs": [
    {
     "data": {
      "text/html": [
       "<style>\n",
       ".rendered_html table, .rendered_html th, .rendered_html tr, .rendered_html td {\n",
       "     font-size: 100%;\n",
       "}\n",
       "</style>"
      ],
      "text/plain": [
       "<IPython.core.display.HTML object>"
      ]
     },
     "metadata": {},
     "output_type": "display_data"
    }
   ],
   "source": [
    "%%HTML\n",
    "<style>\n",
    ".rendered_html table, .rendered_html th, .rendered_html tr, .rendered_html td {\n",
    "     font-size: 100%;\n",
    "}\n",
    "</style>"
   ]
  },
  {
   "cell_type": "markdown",
   "metadata": {
    "slideshow": {
     "slide_type": "slide"
    }
   },
   "source": [
    "# Task 1\n",
    "\n",
    "You will be provided with a file containing the sequence of proteins from the organism *Campylobacter jejuni*.\n",
    "\n",
    "There will be one sequence per line. Each line starts with a protein name, followed by `<tab>`, followed by the protein sequence."
   ]
  },
  {
   "cell_type": "markdown",
   "metadata": {
    "slideshow": {
     "slide_type": "fragment"
    }
   },
   "source": [
    "    Cj0001 MNPSQILENLKKELSEYENYLSNFNSKAKKIFYEVQSGNKAIINIQAQSAK...\n",
    "    Cj0002 MKLSINKNTLESAVILCNAEIKASDIGIIKKVESSGFATANAKSIADVIKS...\n",
    "    Cj0003 MQENYGASNIKVHHMIYEVVDIMAGHCDTIEITTEGSCIVSDNGRGIPVDS...\n",
    "    Cj0004c LSTGLIIDPDSPLVEANCSNLITNMHASRWLAAIRWMQDSEGLWEIEPED...\n",
    "    Cj0005c NIGLFGISFENFLGSELPDFKIEGKKDYHGEKPLTAETEIYALDSDFTKP...\n",
    "    Cj0006 RFNVLLSLLISALSHLELVDTMNILISGENLKTALSYILLGAIAAAISKTN...\n",
    "    Cj0007 MDLENILENIASYKVICDALEILLEHRGGAEENSGDGAGILIQIPHDFFKT...\n",
    "    .\n",
    "    .\n",
    "    ."
   ]
  },
  {
   "cell_type": "markdown",
   "metadata": {
    "slideshow": {
     "slide_type": "slide"
    }
   },
   "source": [
    "## Part i\n",
    "\n",
    "The first job is to write a program that calculates the % occurance of each amino-acid across the whole proteome. \n",
    "\n",
    "For example if the proteome only have two proteins:\n",
    "\n",
    "    Cj0001 MNPSQIS\n",
    "    Cj0002 MKLSINL\n",
    "    \n",
    "The the % of `N` would be 17% because there are 2 Ns (one in each protein) and 12 AAs in total"
   ]
  },
  {
   "cell_type": "markdown",
   "metadata": {
    "slideshow": {
     "slide_type": "slide"
    }
   },
   "source": [
    "## Part ii\n",
    "\n",
    "Now consider protein in turn. Write a program that calculates the % occurance for an amino acid in each protein.\n",
    "\n",
    "e.g. the same protome:\n",
    "\n",
    "    Cj0001 MNPSQIS\n",
    "    Cj0002 MKLSINL\n",
    "    \n",
    "for serine the result might look like:\n",
    "\n",
    "    Cj0001 29\n",
    "    Cj0002 14"
   ]
  },
  {
   "cell_type": "markdown",
   "metadata": {
    "slideshow": {
     "slide_type": "fragment"
    }
   },
   "source": [
    "Choose an amino acid and calculate the results. Plot the results as a histogram."
   ]
  },
  {
   "cell_type": "markdown",
   "metadata": {
    "slideshow": {
     "slide_type": "subslide"
    }
   },
   "source": [
    "Choose two more amino acids and repeat the excerise for them. Plot the results for the three amino acids as three histograms on one page, like so:\n",
    "\n",
    "![](histoeg.png)"
   ]
  },
  {
   "cell_type": "markdown",
   "metadata": {
    "slideshow": {
     "slide_type": "subslide"
    }
   },
   "source": [
    "Pick some outliers and comment on whether you think there is any significance to their \"unusual\" composition is. e.g.\n",
    "\n",
    "> Prot Cj0034 has lots of Serine and because Serine is the best amino acid, it must be a totally awesome protein. Prot Cj0194 has slightly more Alanine than the others, but it is only a slight increase so probably not important"
   ]
  },
  {
   "cell_type": "markdown",
   "metadata": {
    "slideshow": {
     "slide_type": "subslide"
    }
   },
   "source": [
    "## Histograms\n",
    "\n",
    "Back in Lecture 8, Roy showed you how to plot \"histograms\" as in bargraphs. But not how to turn columns of numbers into sets of frequencies that could be plotted.\n",
    "\n",
    "Remember that `gnuplot` wants the centre of each bin for plotting.\n",
    "\n",
    "So for example if you have the numbers `15,17,30,25,35,23,29` you need to bin them, e.g. the binning might look like:\n",
    "\n",
    "  | *bin*  |  *count* |\n",
    "  |--------|----------|\n",
    "  |  10-19   |     2    |\n",
    "  | 20-29  |     3    |\n",
    "  | 30-39  |     2    |\n",
    "  \n",
    "Then the table you want to pass to `gnuplot` might look like:\n",
    "\n",
    "\n",
    "    15    2\n",
    "    25   3\n",
    "    35   2\n"
   ]
  },
  {
   "cell_type": "code",
   "execution_count": 26,
   "metadata": {
    "slideshow": {
     "slide_type": "subslide"
    }
   },
   "outputs": [
    {
     "name": "stdout",
     "output_type": "stream",
     "text": [
      "15.0 2\n",
      "25.0 3\n",
      "35.0 2\n"
     ]
    }
   ],
   "source": [
    "#! /usr/bin/env python\n",
    "\n",
    "\n",
    "    "
   ]
  },
  {
   "cell_type": "code",
   "execution_count": 28,
   "metadata": {
    "slideshow": {
     "slide_type": "fragment"
    }
   },
   "outputs": [
    {
     "name": "stdout",
     "output_type": "stream",
     "text": [
      "15.0 2\n",
      "25.0 3\n",
      "35.0 2\n"
     ]
    }
   ],
   "source": [
    "%%bash\n"
   ]
  },
  {
   "cell_type": "markdown",
   "metadata": {
    "slideshow": {
     "slide_type": "slide"
    }
   },
   "source": [
    "## Part III\n",
    "\n",
    "a) Count the nubmer of negatively and positively charge AAs in each protien and calculate the ratio for each protein."
   ]
  },
  {
   "cell_type": "markdown",
   "metadata": {
    "slideshow": {
     "slide_type": "fragment"
    }
   },
   "source": [
    "b) Count the number of hypdrophic and hydrophobic residues in each protein. Calculate the ratio."
   ]
  },
  {
   "cell_type": "markdown",
   "metadata": {
    "slideshow": {
     "slide_type": "subslide"
    }
   },
   "source": [
    "c) Use gnuplot to plot the positive/negative ratio against the hydrophilic/hydrophobic ratio for each protien. Comment on the relationship.\n",
    "\n",
    "![](ratios_graph.png)"
   ]
  },
  {
   "cell_type": "markdown",
   "metadata": {
    "slideshow": {
     "slide_type": "fragment"
    }
   },
   "source": [
    "Select some outliers. Retrieve the sequence and use `BLAST` to identify the protein. Does their stange composition have any significance? You could use online tools to investigate their pI perhaps. \n",
    "\n",
    "This is open ended, but don't go too far down the rabit hole."
   ]
  },
  {
   "cell_type": "markdown",
   "metadata": {
    "slideshow": {
     "slide_type": "subslide"
    }
   },
   "source": [
    "## Part iV\n",
    "\n",
    "Use wikipedia to find the definition of the \"walker A motif\".\n",
    "\n",
    "Create a regular expression that find all the proteins that contain the motif."
   ]
  },
  {
   "cell_type": "markdown",
   "metadata": {
    "slideshow": {
     "slide_type": "fragment"
    }
   },
   "source": [
    "If you have time do some extra analysis to look at the different sequences and sequence compositions of the variable parts of the motifs by pulling them back as groups. "
   ]
  },
  {
   "cell_type": "markdown",
   "metadata": {
    "slideshow": {
     "slide_type": "slide"
    }
   },
   "source": [
    "## The report\n",
    "\n",
    "Write it all up in a report.\n",
    "\n",
    "For each part have a graphical flow chart to describe your aim and your approach, or use a bulleted this if its simple. "
   ]
  },
  {
   "cell_type": "markdown",
   "metadata": {
    "slideshow": {
     "slide_type": "fragment"
    }
   },
   "source": [
    "Then include your code. Include appropriate comments in the code:\n",
    "* Mark major sections\n",
    "* Places where you have had to make a design decision that needs documenting\n",
    "* Explain **particularly** obscure pieces of code.\n",
    "\n",
    "Try to write code that documents itself. "
   ]
  },
  {
   "cell_type": "markdown",
   "metadata": {
    "slideshow": {
     "slide_type": "subslide"
    }
   },
   "source": [
    "You may wish to format code using the website http://hilite.me\n",
    "\n",
    "Otherwise copy and paste code into word and use the `Courier New` or other \"fixed-width\" font. \n",
    "\n",
    "**Under no circumstances** use screenshots of code.\n",
    "\n",
    "Code can captioned using \"Code 1:\", \"Code 2:\" etc for larger blocks of code."
   ]
  },
  {
   "cell_type": "markdown",
   "metadata": {
    "slideshow": {
     "slide_type": "fragment"
    }
   },
   "source": [
    "Then include results of the code. Include figure legends where appropriate. \n",
    "\n",
    "Finally include your interpretation of the results. "
   ]
  },
  {
   "cell_type": "markdown",
   "metadata": {
    "slideshow": {
     "slide_type": "fragment"
    }
   },
   "source": [
    "The report should be no longer than 300 words (not including titles, code, figures and legends)."
   ]
  },
  {
   "cell_type": "markdown",
   "metadata": {
    "slideshow": {
     "slide_type": "subslide"
    }
   },
   "source": [
    "The report is due in on **Wednesday November the 20th at midnight.**\n",
    "\n",
    "There will be a hand-in on MOLE.\n",
    "\n",
    "This task **contributes** to your conduct mark for the project.\n",
    "\n",
    "The conduct mark is 25% of the whole module. \n",
    "\n",
    "Please get in contact if you are struggling. "
   ]
  },
  {
   "cell_type": "markdown",
   "metadata": {
    "slideshow": {
     "slide_type": "slide"
    }
   },
   "source": [
    "# Handling tables with pandas"
   ]
  },
  {
   "cell_type": "code",
   "execution_count": 37,
   "metadata": {
    "slideshow": {
     "slide_type": "fragment"
    }
   },
   "outputs": [
    {
     "name": "stdout",
     "output_type": "stream",
     "text": [
      "id\tCancer1\tCancer2\tNormal1\tNormal2\n",
      "ENSG00000000003\t5.95826622337557\t8.81097601937505\t7.53216385716448\t6.63781231813915\n",
      "ENSG00000000005\t-1.41151988912058\t-1.43750916858247\t-1.31684622365868\t-1.29089271034514\n",
      "ENSG00000000419\t9.42730899215926\t9.15577673744174\t9.44121243114581\t9.20685569248805\n",
      "ENSG00000000457\t9.76744540012193\t9.56745990257189\t9.2770807794418\t8.96465517406554\n",
      "ENSG00000000460\t7.62719592443423\t7.59893474744653\t7.9111353616632\t7.5232621375324\n",
      "ENSG00000000938\t5.10676083839103\t4.70915305298166\t4.2068607495857\t4.13169270397857\n",
      "ENSG00000000971\t6.61464002977705\t5.31104669007017\t5.75484059089178\t7.61981857371949\n",
      "ENSG00000001036\t11.9369955115137\t10.7788078234204\t9.34068768940202\t11.2829622683915\n",
      "ENSG00000001084\t10.1643213325872\t10.0713806061553\t9.7803495466056\t9.72496464284139\n"
     ]
    }
   ],
   "source": []
  },
  {
   "cell_type": "code",
   "execution_count": 32,
   "metadata": {
    "slideshow": {
     "slide_type": "subslide"
    }
   },
   "outputs": [
    {
     "data": {
      "text/html": [
       "<div>\n",
       "<style scoped>\n",
       "    .dataframe tbody tr th:only-of-type {\n",
       "        vertical-align: middle;\n",
       "    }\n",
       "\n",
       "    .dataframe tbody tr th {\n",
       "        vertical-align: top;\n",
       "    }\n",
       "\n",
       "    .dataframe thead th {\n",
       "        text-align: right;\n",
       "    }\n",
       "</style>\n",
       "<table border=\"1\" class=\"dataframe\">\n",
       "  <thead>\n",
       "    <tr style=\"text-align: right;\">\n",
       "      <th></th>\n",
       "      <th>id</th>\n",
       "      <th>Cancer1</th>\n",
       "      <th>Cancer2</th>\n",
       "      <th>Normal1</th>\n",
       "      <th>Normal2</th>\n",
       "    </tr>\n",
       "  </thead>\n",
       "  <tbody>\n",
       "    <tr>\n",
       "      <th>0</th>\n",
       "      <td>ENSG00000000003</td>\n",
       "      <td>5.958266</td>\n",
       "      <td>8.810976</td>\n",
       "      <td>7.532164</td>\n",
       "      <td>6.637812</td>\n",
       "    </tr>\n",
       "    <tr>\n",
       "      <th>1</th>\n",
       "      <td>ENSG00000000005</td>\n",
       "      <td>-1.411520</td>\n",
       "      <td>-1.437509</td>\n",
       "      <td>-1.316846</td>\n",
       "      <td>-1.290893</td>\n",
       "    </tr>\n",
       "    <tr>\n",
       "      <th>2</th>\n",
       "      <td>ENSG00000000419</td>\n",
       "      <td>9.427309</td>\n",
       "      <td>9.155777</td>\n",
       "      <td>9.441212</td>\n",
       "      <td>9.206856</td>\n",
       "    </tr>\n",
       "    <tr>\n",
       "      <th>3</th>\n",
       "      <td>ENSG00000000457</td>\n",
       "      <td>9.767445</td>\n",
       "      <td>9.567460</td>\n",
       "      <td>9.277081</td>\n",
       "      <td>8.964655</td>\n",
       "    </tr>\n",
       "    <tr>\n",
       "      <th>4</th>\n",
       "      <td>ENSG00000000460</td>\n",
       "      <td>7.627196</td>\n",
       "      <td>7.598935</td>\n",
       "      <td>7.911135</td>\n",
       "      <td>7.523262</td>\n",
       "    </tr>\n",
       "  </tbody>\n",
       "</table>\n",
       "</div>"
      ],
      "text/plain": [
       "                id   Cancer1   Cancer2   Normal1   Normal2\n",
       "0  ENSG00000000003  5.958266  8.810976  7.532164  6.637812\n",
       "1  ENSG00000000005 -1.411520 -1.437509 -1.316846 -1.290893\n",
       "2  ENSG00000000419  9.427309  9.155777  9.441212  9.206856\n",
       "3  ENSG00000000457  9.767445  9.567460  9.277081  8.964655\n",
       "4  ENSG00000000460  7.627196  7.598935  7.911135  7.523262"
      ]
     },
     "execution_count": 32,
     "metadata": {},
     "output_type": "execute_result"
    }
   ],
   "source": [
    "import pandas\n"
   ]
  },
  {
   "cell_type": "markdown",
   "metadata": {
    "slideshow": {
     "slide_type": "fragment"
    }
   },
   "source": [
    "The `sep` arguement allows us to say what seperates the columns in the file"
   ]
  },
  {
   "cell_type": "markdown",
   "metadata": {
    "slideshow": {
     "slide_type": "subslide"
    }
   },
   "source": [
    "I can get a single column"
   ]
  },
  {
   "cell_type": "code",
   "execution_count": 40,
   "metadata": {
    "slideshow": {
     "slide_type": "-"
    }
   },
   "outputs": [
    {
     "data": {
      "text/plain": [
       "0    ENSG00000000003\n",
       "1    ENSG00000000005\n",
       "2    ENSG00000000419\n",
       "3    ENSG00000000457\n",
       "4    ENSG00000000460\n",
       "Name: id, dtype: object"
      ]
     },
     "execution_count": 40,
     "metadata": {},
     "output_type": "execute_result"
    }
   ],
   "source": []
  },
  {
   "cell_type": "markdown",
   "metadata": {
    "slideshow": {
     "slide_type": "fragment"
    }
   },
   "source": [
    "Or a single row"
   ]
  },
  {
   "cell_type": "code",
   "execution_count": 41,
   "metadata": {
    "slideshow": {
     "slide_type": "-"
    }
   },
   "outputs": [
    {
     "data": {
      "text/plain": [
       "id         ENSG00000000003\n",
       "Cancer1            5.95827\n",
       "Cancer2            8.81098\n",
       "Normal1            7.53216\n",
       "Normal2            6.63781\n",
       "Name: 0, dtype: object"
      ]
     },
     "execution_count": 41,
     "metadata": {},
     "output_type": "execute_result"
    }
   ],
   "source": [
    "table.loc[0].head()"
   ]
  },
  {
   "cell_type": "markdown",
   "metadata": {
    "slideshow": {
     "slide_type": "fragment"
    }
   },
   "source": [
    "`loc` is short for location"
   ]
  },
  {
   "cell_type": "markdown",
   "metadata": {
    "slideshow": {
     "slide_type": "subslide"
    }
   },
   "source": [
    "Or I can get multiple columns/rows"
   ]
  },
  {
   "cell_type": "code",
   "execution_count": null,
   "metadata": {},
   "outputs": [],
   "source": []
  }
 ],
 "metadata": {
  "celltoolbar": "Slideshow",
  "kernelspec": {
   "display_name": "Python 3",
   "language": "python",
   "name": "python3"
  },
  "language_info": {
   "codemirror_mode": {
    "name": "ipython",
    "version": 3
   },
   "file_extension": ".py",
   "mimetype": "text/x-python",
   "name": "python",
   "nbconvert_exporter": "python",
   "pygments_lexer": "ipython3",
   "version": "3.5.5"
  },
  "rise": {
   "scroll": true,
   "transition": "none"
  }
 },
 "nbformat": 4,
 "nbformat_minor": 2
}
