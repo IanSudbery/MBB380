{
 "cells": [
  {
   "cell_type": "markdown",
   "metadata": {
    "slideshow": {
     "slide_type": "slide"
    }
   },
   "source": [
    "# Time stepping and systems biology"
   ]
  },
  {
   "cell_type": "markdown",
   "metadata": {
    "slideshow": {
     "slide_type": "fragment"
    }
   },
   "source": [
    "Given the system:\n",
    "\n",
    "$$A \\xrightarrow{k} B$$\n",
    "\n",
    "with kinetics\n",
    "\n",
    "$$\\frac{d[A]}{dt} = -k[A]$$\n",
    "\n",
    "$$\\frac{d[B]}{dt} = k[A]$$\n",
    "\n",
    "and inital conditions at $t=0$ of:\n",
    "\n",
    "$$[A]_0 = 10 \\mu M$$\n",
    "$$[B]_0 = 0 \\mu M$$\n",
    "$$ k = 3 s^{-1}$$\n",
    "\n",
    "Compute the levels of A for the first second with a timestep of 0.01"
   ]
  },
  {
   "cell_type": "code",
   "execution_count": null,
   "metadata": {
    "slideshow": {
     "slide_type": "slide"
    }
   },
   "outputs": [],
   "source": [
    "import sys\n",
    "\n",
    "# define parameters\n",
    "\n",
    "\n",
    "# Define Variables\n",
    "\n",
    "\n",
    "# Main loop\n",
    "\n",
    "\n",
    "    #1 calculate the rate of change\n",
    "\n",
    "    #2. Calclate the amount change\n",
    "\n",
    "    #3. Update the quantities\n",
    "    \n",
    "    #4. Advance the time step\n",
    "\n",
    "    #5. Print the new state\n"
   ]
  },
  {
   "cell_type": "code",
   "execution_count": null,
   "metadata": {
    "slideshow": {
     "slide_type": "slide"
    }
   },
   "outputs": [],
   "source": [
    "import matplotlib.pyplot as plt"
   ]
  },
  {
   "cell_type": "markdown",
   "metadata": {
    "slideshow": {
     "slide_type": "slide"
    }
   },
   "source": [
    "## Telling if its gone pear-shaped\n",
    "\n",
    "Mass consevation rules. Reactions cannot create or destroy mass. \n"
   ]
  },
  {
   "cell_type": "markdown",
   "metadata": {
    "slideshow": {
     "slide_type": "fragment"
    }
   },
   "source": [
    "In the Michaelis Menten example:\n",
    "\n",
    "$[E] + [ES] = [E]_0$\n",
    "\n",
    "$[S] + [ES] + [P] = [S]_0$\n",
    "\n",
    "at all time points. "
   ]
  },
  {
   "cell_type": "markdown",
   "metadata": {
    "slideshow": {
     "slide_type": "fragment"
    }
   },
   "source": [
    "So add a line to check for convervation. "
   ]
  },
  {
   "cell_type": "markdown",
   "metadata": {
    "slideshow": {
     "slide_type": "fragment"
    }
   },
   "source": [
    "If its gone wrong, its could be:\n",
    "\n",
    "* Bug in your program\n",
    "* Time-step too long"
   ]
  },
  {
   "cell_type": "markdown",
   "metadata": {
    "slideshow": {
     "slide_type": "slide"
    }
   },
   "source": [
    "# Exercises\n",
    "\n",
    "* Add B to the above simulation\n",
    "* Build a similar simulation from the Michaelis–Menten equations built in the last session.. "
   ]
  }
 ],
 "metadata": {
  "celltoolbar": "Slideshow",
  "kernelspec": {
   "display_name": "Python 3",
   "language": "python",
   "name": "python3"
  },
  "language_info": {
   "codemirror_mode": {
    "name": "ipython",
    "version": 3
   },
   "file_extension": ".py",
   "mimetype": "text/x-python",
   "name": "python",
   "nbconvert_exporter": "python",
   "pygments_lexer": "ipython3",
   "version": "3.6.12"
  },
  "rise": {
   "scroll": true,
   "transition": "none"
  }
 },
 "nbformat": 4,
 "nbformat_minor": 2
}
