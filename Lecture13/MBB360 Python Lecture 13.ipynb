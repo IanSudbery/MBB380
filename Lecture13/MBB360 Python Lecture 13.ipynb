{
 "cells": [
  {
   "cell_type": "markdown",
   "metadata": {
    "slideshow": {
     "slide_type": "slide"
    }
   },
   "source": [
    "# Time stepping and systems biology"
   ]
  },
  {
   "cell_type": "markdown",
   "metadata": {
    "slideshow": {
     "slide_type": "fragment"
    }
   },
   "source": [
    "Given the system:\n",
    "\n",
    "$$A \\xrightarrow{k} B$$\n",
    "\n",
    "with kinetics\n",
    "\n",
    "$$\\frac{d[A]}{dt} = -k[A]$$\n",
    "\n",
    "$$\\frac{d[B]}{dt} = k[A]$$\n",
    "\n",
    "and inital conditions at $t=0$ of:\n",
    "\n",
    "$$[A]_0 = 10 \\mu M$$\n",
    "$$[B]_0 = 0 \\mu M$$\n",
    "$$ k = 3 s^{-1}$$\n",
    "\n",
    "Compute the levels of A for the first second with a timestep of 0.01"
   ]
  },
  {
   "cell_type": "code",
   "execution_count": 7,
   "metadata": {
    "slideshow": {
     "slide_type": "slide"
    }
   },
   "outputs": [
    {
     "name": "stdout",
     "output_type": "stream",
     "text": [
      "t A dAdt\n",
      "0.01    9.70  -30.00\n",
      "0.02    9.41  -29.10\n",
      "0.03    9.13  -28.23\n",
      "0.04    8.85  -27.38\n",
      "0.05    8.59  -26.56\n",
      "0.06    8.33  -25.76\n",
      "0.07    8.08  -24.99\n",
      "0.08    7.84  -24.24\n",
      "0.09    7.60  -23.51\n",
      "0.1    7.37  -22.81\n",
      "0.11    7.15  -22.12\n",
      "0.12    6.94  -21.46\n",
      "0.13    6.73  -20.82\n",
      "0.14    6.53  -20.19\n",
      "0.15    6.33  -19.59\n",
      "0.16    6.14  -19.00\n",
      "0.17    5.96  -18.43\n",
      "0.18    5.78  -17.87\n",
      "0.19    5.61  -17.34\n",
      "0.2    5.44  -16.82\n",
      "0.21    5.27  -16.31\n",
      "0.22    5.12  -15.82\n",
      "0.23    4.96  -15.35\n",
      "0.24    4.81  -14.89\n",
      "0.25    4.67  -14.44\n",
      "0.26    4.53  -14.01\n",
      "0.27    4.39  -13.59\n",
      "0.28    4.26  -13.18\n",
      "0.29    4.13  -12.79\n",
      "0.3    4.01  -12.40\n"
     ]
    }
   ],
   "source": [
    "import sys\n",
    "\n",
    "# define parameters\n",
    "\n",
    "\n",
    "\n",
    "\n",
    "\n",
    "\n",
    "# Variables\n",
    "\n",
    "\n",
    "\n",
    "\n",
    "\n",
    "\n",
    "\n",
    "\n",
    "\n",
    "\n",
    "    \n",
    "    #1 calculate the rate of change\n",
    "\n",
    "    \n",
    "    #2. Calclate the amount change\n",
    "\n",
    "    \n",
    "    #3. Update the quantities\n",
    "\n",
    "    \n",
    "    #4. Advance the time step\n",
    "\n",
    "    \n",
    "    #5. Print the new state\n",
    "\n",
    "    "
   ]
  },
  {
   "cell_type": "markdown",
   "metadata": {
    "slideshow": {
     "slide_type": "subslide"
    }
   },
   "source": [
    "![](ABplot.png)"
   ]
  },
  {
   "cell_type": "markdown",
   "metadata": {
    "slideshow": {
     "slide_type": "slide"
    }
   },
   "source": [
    "## Telling if its gone pear-shaped\n",
    "\n",
    "Mass consevation rules. Reactions cannot create or destroy mass. \n"
   ]
  },
  {
   "cell_type": "markdown",
   "metadata": {
    "slideshow": {
     "slide_type": "fragment"
    }
   },
   "source": [
    "In the Michaelis Menten example:\n",
    "\n",
    "$[E] + [ES] = [E]_0$\n",
    "\n",
    "$[S] + [ES] + [P] = [S]_0$\n",
    "\n",
    "at all time points. "
   ]
  },
  {
   "cell_type": "markdown",
   "metadata": {
    "slideshow": {
     "slide_type": "fragment"
    }
   },
   "source": [
    "So add a line to check for convervation. "
   ]
  },
  {
   "cell_type": "markdown",
   "metadata": {
    "slideshow": {
     "slide_type": "fragment"
    }
   },
   "source": [
    "If its gone wrong, its could be:\n",
    "\n",
    "* Bug in your program\n",
    "* Time-step too long"
   ]
  },
  {
   "cell_type": "markdown",
   "metadata": {
    "slideshow": {
     "slide_type": "slide"
    }
   },
   "source": [
    "# Stochastic Models\n",
    "\n",
    "* Above models work with **concentrations**, not numbers of molecules. "
   ]
  },
  {
   "cell_type": "markdown",
   "metadata": {
    "slideshow": {
     "slide_type": "fragment"
    }
   },
   "source": [
    "* Work well when the mean is a good representation of the behavoir of each molecule."
   ]
  },
  {
   "cell_type": "markdown",
   "metadata": {
    "slideshow": {
     "slide_type": "fragment"
    }
   },
   "source": [
    "* Work less well when numbers of molecules are small:\n",
    "    * If I have 1 molecule and a k of 0.5, I can't convert 0.5 molecules of A to B."
   ]
  },
  {
   "cell_type": "markdown",
   "metadata": {
    "slideshow": {
     "slide_type": "fragment"
    }
   },
   "source": [
    "* Stochastic models track the fate of indevidual molecules."
   ]
  },
  {
   "cell_type": "markdown",
   "metadata": {
    "slideshow": {
     "slide_type": "subslide"
    }
   },
   "source": [
    "Returning to the $A \\xrightarrow{k} B$ system.\n",
    "\n",
    "Let $k^\\prime$ be the probability of a molecule of A turning into a molecule of B in a small time step $\\Delta t$.  "
   ]
  },
  {
   "cell_type": "markdown",
   "metadata": {
    "slideshow": {
     "slide_type": "fragment"
    }
   },
   "source": [
    "$k^\\prime$ is related to $k$ via the poisson distribution and the size of the time step.\n",
    "\n",
    "$$k^\\prime = 1 - e^{-k \\Delta t}$$\n",
    "\n",
    "(ask if you want details)"
   ]
  },
  {
   "cell_type": "markdown",
   "metadata": {
    "slideshow": {
     "slide_type": "fragment"
    }
   },
   "source": [
    "Pick a random number $r$ between 0 and 1. \n",
    "\n",
    "If $r < k^\\prime \\times A$ then the reaction takes place and one molecule of A is converted to B. \n",
    "\n",
    "Otherwise nothing happens."
   ]
  },
  {
   "cell_type": "code",
   "execution_count": 6,
   "metadata": {
    "slideshow": {
     "slide_type": "subslide"
    }
   },
   "outputs": [
    {
     "name": "stdout",
     "output_type": "stream",
     "text": [
      "t num_A num_B\n",
      "0 10 0\n",
      "0.004 9 1\n",
      "0.017 8 2\n",
      "0.024 7 3\n",
      "0.038 6 4\n",
      "0.041 5 5\n",
      "0.063 4 6\n",
      "0.136 3 7\n",
      "0.194 2 8\n",
      "0.277 1 9\n",
      "0.617 0 10\n"
     ]
    }
   ],
   "source": [
    "import math, random\n",
    "\n",
    "# parameters\n",
    "\n",
    "\n",
    "\n",
    "\n",
    "\n",
    "\n",
    "# calculate kprime\n",
    "\n",
    "\n",
    "\n",
    "\n",
    "\n",
    "    # 1. Choose random number\n",
    "    r = random.random()\n",
    "    \n",
    "    # Compare to probabilty of reaction\n",
    "    \n",
    "    \n",
    "        \n",
    "      \n",
    "    # advance time step    \n",
    "    \n",
    "        \n",
    "        \n",
    "        \n",
    "        \n",
    "        "
   ]
  },
  {
   "cell_type": "markdown",
   "metadata": {
    "slideshow": {
     "slide_type": "subslide"
    }
   },
   "source": [
    "![](stoch.png)"
   ]
  },
  {
   "cell_type": "markdown",
   "metadata": {
    "slideshow": {
     "slide_type": "subslide"
    }
   },
   "source": [
    "The key for this to work is for $k^\\prime \\times A << 1$\n",
    "\n",
    "This means that there must be many more time steps than succesfull reactions. "
   ]
  },
  {
   "cell_type": "markdown",
   "metadata": {
    "slideshow": {
     "slide_type": "fragment"
    }
   },
   "source": [
    "Control this by reducing $\\Delta t$"
   ]
  },
  {
   "cell_type": "markdown",
   "metadata": {
    "slideshow": {
     "slide_type": "fragment"
    }
   },
   "source": [
    "Particular attention much be paid were two reactions can take place that affect the same moleucule type.\n",
    "\n",
    "Order might be important\n",
    "\n",
    "There are other, much more sophisticated ways to do this.\n",
    "See Gillespie simulation. "
   ]
  }
 ],
 "metadata": {
  "celltoolbar": "Slideshow",
  "kernelspec": {
   "display_name": "Python 3",
   "language": "python",
   "name": "python3"
  },
  "language_info": {
   "codemirror_mode": {
    "name": "ipython",
    "version": 3
   },
   "file_extension": ".py",
   "mimetype": "text/x-python",
   "name": "python",
   "nbconvert_exporter": "python",
   "pygments_lexer": "ipython3",
   "version": "3.5.5"
  },
  "rise": {
   "scroll": true,
   "transition": "none"
  }
 },
 "nbformat": 4,
 "nbformat_minor": 2
}
