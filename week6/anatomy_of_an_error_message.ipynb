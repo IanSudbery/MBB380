{
 "cells": [
  {
   "cell_type": "code",
   "execution_count": null,
   "metadata": {
    "slideshow": {
     "slide_type": "skip"
    },
    "tags": [
     "noshow"
    ]
   },
   "outputs": [],
   "source": [
    "%xmode plain"
   ]
  },
  {
   "cell_type": "markdown",
   "metadata": {
    "slideshow": {
     "slide_type": "slide"
    }
   },
   "source": [
    "# Anatomy of an error message"
   ]
  },
  {
   "cell_type": "markdown",
   "metadata": {
    "slideshow": {
     "slide_type": "skip"
    }
   },
   "source": [
    "Error messages in python look obscure and unhelpful, but are a font of information about what is wrong with your code.\n",
    "\n",
    "Lets see an example:\n",
    "\n",
    "Write a function to output an arbitrary column of a file"
   ]
  },
  {
   "cell_type": "code",
   "execution_count": null,
   "metadata": {
    "slideshow": {
     "slide_type": "fragment"
    }
   },
   "outputs": [],
   "source": [
    "%%bash\n",
    "# have a look whats in the file. \n"
   ]
  },
  {
   "cell_type": "code",
   "execution_count": null,
   "metadata": {
    "slideshow": {
     "slide_type": "subslide"
    }
   },
   "outputs": [],
   "source": [
    "def read_col(filename, column_number):\n",
    "    ''' A function that reads one column from a file and returns it\n",
    "    as a list'''\n",
    "    \n",
    "    # First open the file \n",
    "\n",
    "    # Then loop over each line, split it into columns\n",
    "    # and add the columns we want to a list          \n",
    "        \n",
    "    # Finally return this list\n",
    "\n",
    "# Run our function\n"
   ]
  },
  {
   "cell_type": "markdown",
   "metadata": {
    "slideshow": {
     "slide_type": "subslide"
    }
   },
   "source": [
    "The resulting error message contains several parts:"
   ]
  },
  {
   "cell_type": "markdown",
   "metadata": {
    "slideshow": {
     "slide_type": "fragment"
    }
   },
   "source": [
    "![](error1.png)"
   ]
  },
  {
   "cell_type": "markdown",
   "metadata": {
    "slideshow": {
     "slide_type": "subslide"
    }
   },
   "source": [
    "A **``SyntaxError``** - special type of error: what you've written is not valid python"
   ]
  },
  {
   "cell_type": "markdown",
   "metadata": {
    "slideshow": {
     "slide_type": "fragment"
    }
   },
   "source": [
    "There are many of types of error, here are some common ones:\n",
    "\n",
    "* **`NameError`**: You've used a name that doesn't exist\n",
    "* **`TypeError`**: You are trying to do something with a variable type that can't do that\n",
    "* **`ValueError`**: The values you are trying to use don't make sense for that operation.\n",
    "* **`IndexError`**/**`KeyError`** : are are trying to access a member of a list or dictionary that doesn't exist"
   ]
  },
  {
   "cell_type": "code",
   "execution_count": null,
   "metadata": {
    "slideshow": {
     "slide_type": "slide"
    }
   },
   "outputs": [],
   "source": [
    "def read_col(filename, column_number):\n",
    "    ''' A function that reads one column from a file and returns it\n",
    "    as a list'''\n",
    "    \n",
    "    # First open the file\n",
    "    fh = open(filename)\n",
    "    \n",
    "    datalist = []\n",
    "    \n",
    "    # Then loop over each line, split it into columns\n",
    "    # and add the columns we want to a list\n",
    "    for line in fh.readlines():    \n",
    "        columns = line.split()\n",
    "        datalist.append(columns[column_number])\n",
    "        \n",
    "    # Finally return this list\n",
    "    return datalist\n",
    "\n",
    "# Run our function\n",
    "read_col(\"my_file\", \"3\""
   ]
  },
  {
   "cell_type": "markdown",
   "metadata": {
    "slideshow": {
     "slide_type": "subslide"
    }
   },
   "source": [
    "![](error2.png)\n",
    "\n",
    "* We can see that this error is a <font color=\"green\">**TypeError**</font>.\n",
    "\n",
    "* This means that we've done something with the wrong type.\n",
    "\n",
    "* The Location part here is longer. It is called the **\"traceback\"**. <br> It shows us not just what the error is, but how we got there."
   ]
  },
  {
   "cell_type": "markdown",
   "metadata": {
    "slideshow": {
     "slide_type": "subslide"
    }
   },
   "source": [
    "![](error3.png)\n",
    "\n",
    "This error is cause by the line\n",
    "\n",
    "    datalist.append(columns[column_number])\n",
    "    \n",
    "Which is **`line 14`**, in the file **`<ipython-input-78b9696184f0>`**.\n",
    "\n",
    "It also tells us this is in the function **`read_col`**.\n"
   ]
  },
  {
   "cell_type": "markdown",
   "metadata": {
    "slideshow": {
     "slide_type": "fragment"
    }
   },
   "source": [
    "\n",
    "The traceback tells us how we ended up here:\n",
    "\n",
    "![](error4.PNG)\n",
    "\n",
    "It tells us that we are in `read_col` becase `read_col` was called\n",
    "\n",
    "on `line 20` of the file `<ipython-input-78b9696184f0>` \n",
    "\n",
    "with the parameters `(\"my_file\", \"3\")`"
   ]
  },
  {
   "cell_type": "code",
   "execution_count": null,
   "metadata": {
    "slideshow": {
     "slide_type": "slide"
    }
   },
   "outputs": [],
   "source": [
    "def read_col(filename, column_number):\n",
    "    ''' A function that reads one column from a file and returns it\n",
    "    as a list'''\n",
    "    \n",
    "    # First open the file\n",
    "    fh = open(filename)\n",
    "    \n",
    "    datalist = []\n",
    "    \n",
    "    # Then loop over each line, split it into columns\n",
    "    # and add the columns we want to a list\n",
    "    for line in fh.readlines():    \n",
    "        columns = line.split()\n",
    "        selected_column = columns[column_number]\n",
    "        datalist.append(selected_column)\n",
    "        \n",
    "    # Finally return this list  \n",
    "    return datalist\n",
    "\n",
    "# Run our function\n",
    "read_col(\"my_file\", \"3\")"
   ]
  },
  {
   "cell_type": "markdown",
   "metadata": {
    "slideshow": {
     "slide_type": "notes"
    }
   },
   "source": [
    "The error was caused by trying to ask for column `\"3\"` of the file when `\"3\"` is a string. \n",
    "But if you are getting an entry from a list, you need to use an integer, not a string. So the correct way to get the third column is to ask for `2` not column `\"2\"`, which would give:\n",
    "\n",
    "    read_col(\"my_file\", 2)\n",
    "    \n",
    "rather than \n",
    "\n",
    "    read_col(\"my_file\", \"2\")\n",
    "\n",
    "Of course, we actaully wanted the second column, not the third, so the correct call is\n",
    "\n",
    "    read_col(\"my_file\", 1)\n",
    "    "
   ]
  }
 ],
 "metadata": {
  "celltoolbar": "Slideshow",
  "kernelspec": {
   "display_name": "Python 3",
   "language": "python",
   "name": "python3"
  },
  "language_info": {
   "codemirror_mode": {
    "name": "ipython",
    "version": 3
   },
   "file_extension": ".py",
   "mimetype": "text/x-python",
   "name": "python",
   "nbconvert_exporter": "python",
   "pygments_lexer": "ipython3",
   "version": "3.6.12"
  },
  "rise": {
   "scroll": true,
   "transition": "none"
  }
 },
 "nbformat": 4,
 "nbformat_minor": 2
}
