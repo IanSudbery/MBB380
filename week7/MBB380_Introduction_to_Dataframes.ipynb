{
 "cells": [
  {
   "cell_type": "code",
   "execution_count": null,
   "metadata": {},
   "outputs": [],
   "source": [
    "%%HTML\n",
    "<style>\n",
    ".rendered_html table, .rendered_html th, .rendered_html tr, .rendered_html td {\n",
    "     font-size: 90%;\n",
    "}\n",
    "</style>"
   ]
  },
  {
   "cell_type": "markdown",
   "metadata": {
    "slideshow": {
     "slide_type": "slide"
    }
   },
   "source": [
    "# Data frames, pandas and data-science"
   ]
  },
  {
   "cell_type": "markdown",
   "metadata": {
    "slideshow": {
     "slide_type": "fragment"
    }
   },
   "source": [
    "* In bioinformatics we often handle big tables of data\n",
    "* We've seen ways of handling tables of data (`dicts`, `list`s, `list`s of `dict`s, `dict`s of `list`s."
   ]
  },
  {
   "cell_type": "markdown",
   "metadata": {
    "slideshow": {
     "slide_type": "fragment"
    }
   },
   "source": [
    "For example:\n",
    "\n",
    "|id             |Cancer1          |Cancer2          |Normal1          |Normal2          |\n",
    "|---------------|-----------------|-----------------|-----------------|-----------------|\n",
    "|ENSG00000000003|5.95826622337557 |8.81097601937505 |7.53216385716448 |6.63781231813915 |\n",
    "|ENSG00000000005|-1.41151988912058|-1.43750916858247|-1.31684622365868|-1.29089271034514|\n",
    "|ENSG00000000419|9.42730899215926 |9.15577673744174 |9.44121243114581 |9.20685569248805 |\n",
    "|ENSG00000000457|9.76744540012193 |9.56745990257189 |9.2770807794418  |8.96465517406554 |\n",
    "|ENSG00000000460|7.62719592443423 |7.59893474744653 |7.9111353616632  |7.5232621375324  |\n",
    "|ENSG00000000938|5.10676083839103 |4.70915305298166 |4.2068607495857  |4.13169270397857 |\n",
    "|ENSG00000000971|6.61464002977705 |5.31104669007017 |5.75484059089178 |7.61981857371949 |\n",
    "|ENSG00000001036|11.9369955115137 |10.7788078234204 |9.34068768940202 |11.2829622683915 |\n",
    "|ENSG00000001084|10.1643213325872 |10.0713806061553 |9.7803495466056  |9.72496464284139 |"
   ]
  },
  {
   "cell_type": "code",
   "execution_count": null,
   "metadata": {
    "slideshow": {
     "slide_type": "slide"
    }
   },
   "outputs": [],
   "source": [
    "#! /usr/bin/env python\n",
    "import sys\n",
    "import os\n",
    "\n",
    "\n",
    "\n",
    "\n",
    "\n",
    "\n",
    "\n",
    "\n",
    "\n",
    "\n",
    "\n",
    "\n",
    "\n",
    "\n"
   ]
  },
  {
   "cell_type": "code",
   "execution_count": null,
   "metadata": {
    "slideshow": {
     "slide_type": "slide"
    }
   },
   "outputs": [],
   "source": [
    "\n",
    "print(\"There are %i rows\" % nrows)"
   ]
  },
  {
   "cell_type": "code",
   "execution_count": null,
   "metadata": {
    "slideshow": {
     "slide_type": "fragment"
    }
   },
   "outputs": [],
   "source": [
    "\n",
    "print (\"Sum of expression of Cancer1 is %.2f\" % sum_expression)"
   ]
  },
  {
   "cell_type": "code",
   "execution_count": null,
   "metadata": {
    "slideshow": {
     "slide_type": "fragment"
    }
   },
   "outputs": [],
   "source": [
    "\n",
    "\n",
    "print(\"Expression of %s in Cancer1 is %.2f and in Cancer2 is %.2f\" % \n",
    "      (gene_of_interest, Cancer1[index_of_gene], Cancer2[index_of_gene]))\n"
   ]
  },
  {
   "cell_type": "markdown",
   "metadata": {
    "slideshow": {
     "slide_type": "slide"
    }
   },
   "source": [
    "## Pandas"
   ]
  },
  {
   "cell_type": "markdown",
   "metadata": {
    "cell_style": "split",
    "slideshow": {
     "slide_type": "fragment"
    }
   },
   "source": [
    "![](panda_logo.jpg)"
   ]
  },
  {
   "cell_type": "markdown",
   "metadata": {
    "cell_style": "split",
    "slideshow": {
     "slide_type": "fragment"
    }
   },
   "source": [
    "![](pandas.jpg)"
   ]
  },
  {
   "cell_type": "code",
   "execution_count": null,
   "metadata": {
    "slideshow": {
     "slide_type": "slide"
    }
   },
   "outputs": [],
   "source": [
    "import pandas\n",
    "\n",
    "list1 = [\"foo\", \"bar\", \"baz\", \"ping\"]\n",
    "list2 = [\"A\", \"A\", \"B\", \"B\"]\n",
    "list3 = [2,4,6,10]\n",
    "\n",
    "\n",
    "\n",
    "\n"
   ]
  },
  {
   "cell_type": "code",
   "execution_count": null,
   "metadata": {
    "slideshow": {
     "slide_type": "-"
    }
   },
   "outputs": [],
   "source": []
  },
  {
   "cell_type": "markdown",
   "metadata": {
    "slideshow": {
     "slide_type": "slide"
    }
   },
   "source": [
    "Most usefully, we can read in big tables of data quickly and easily:"
   ]
  },
  {
   "cell_type": "code",
   "execution_count": null,
   "metadata": {
    "slideshow": {
     "slide_type": "-"
    }
   },
   "outputs": [],
   "source": []
  },
  {
   "cell_type": "code",
   "execution_count": null,
   "metadata": {
    "slideshow": {
     "slide_type": "-"
    }
   },
   "outputs": [],
   "source": []
  },
  {
   "cell_type": "markdown",
   "metadata": {
    "slideshow": {
     "slide_type": "fragment"
    }
   },
   "source": [
    "`head` allows us to just look at the first few rows:"
   ]
  },
  {
   "cell_type": "code",
   "execution_count": null,
   "metadata": {
    "slideshow": {
     "slide_type": "-"
    }
   },
   "outputs": [],
   "source": []
  }
 ],
 "metadata": {
  "celltoolbar": "Slideshow",
  "kernelspec": {
   "display_name": "Python 3",
   "language": "python",
   "name": "python3"
  },
  "language_info": {
   "codemirror_mode": {
    "name": "ipython",
    "version": 3
   },
   "file_extension": ".py",
   "mimetype": "text/x-python",
   "name": "python",
   "nbconvert_exporter": "python",
   "pygments_lexer": "ipython3",
   "version": "3.6.12"
  }
 },
 "nbformat": 4,
 "nbformat_minor": 2
}
